{
 "cells": [
  {
   "cell_type": "code",
   "id": "initial_id",
   "metadata": {
    "collapsed": true,
    "ExecuteTime": {
     "end_time": "2025-09-06T09:12:39.061917Z",
     "start_time": "2025-09-06T09:12:39.047041Z"
    }
   },
   "source": [
    "import numpy as np\n",
    "\n",
    "arr1 = np.array([[1,2,3,4],\n",
    "                 [4,3,2,1]])\n",
    "\n",
    "# Reshape arr1 to 4 rows and 2 columns\n",
    "arr2 = np.reshape(arr1, (4, 2))\n",
    "print(arr2)\n",
    "arr3 = np.arange(0,100,2)\n",
    "print(\"arr3 \" ,arr3)\n"
   ],
   "outputs": [
    {
     "name": "stdout",
     "output_type": "stream",
     "text": [
      "[[1 2]\n",
      " [3 4]\n",
      " [4 3]\n",
      " [2 1]]\n",
      "arr3  [ 0  2  4  6  8 10 12 14 16 18 20 22 24 26 28 30 32 34 36 38 40 42 44 46\n",
      " 48 50 52 54 56 58 60 62 64 66 68 70 72 74 76 78 80 82 84 86 88 90 92 94\n",
      " 96 98]\n"
     ]
    }
   ],
   "execution_count": 17
  },
  {
   "metadata": {},
   "cell_type": "markdown",
   "source": "## Arrange Methods in Numpy Start -Stop -Next\n",
   "id": "3bb20976efe7fafe"
  },
  {
   "metadata": {
    "ExecuteTime": {
     "end_time": "2025-09-06T09:09:42.884429Z",
     "start_time": "2025-09-06T09:09:42.866835Z"
    }
   },
   "cell_type": "code",
   "source": "num = np.arrange(0,3,10)",
   "id": "fdbf6a8225896bde",
   "outputs": [
    {
     "ename": "NameError",
     "evalue": "name 'np' is not defined",
     "output_type": "error",
     "traceback": [
      "\u001B[31m---------------------------------------------------------------------------\u001B[39m",
      "\u001B[31mNameError\u001B[39m                                 Traceback (most recent call last)",
      "\u001B[36mCell\u001B[39m\u001B[36m \u001B[39m\u001B[32mIn[10]\u001B[39m\u001B[32m, line 1\u001B[39m\n\u001B[32m----> \u001B[39m\u001B[32m1\u001B[39m num = \u001B[43mnp\u001B[49m.arrange(\u001B[32m0\u001B[39m,\u001B[32m3\u001B[39m,\u001B[32m10\u001B[39m)\n",
      "\u001B[31mNameError\u001B[39m: name 'np' is not defined"
     ]
    }
   ],
   "execution_count": 10
  },
  {
   "metadata": {
    "jupyter": {
     "is_executing": true
    },
    "ExecuteTime": {
     "start_time": "2025-09-05T13:10:49.859521Z"
    }
   },
   "cell_type": "code",
   "outputs": [],
   "execution_count": null,
   "source": "arr",
   "id": "30c823aedc528b20"
  },
  {
   "metadata": {},
   "cell_type": "markdown",
   "source": "## ReShape\n",
   "id": "c2581b353acc5da9"
  },
  {
   "metadata": {},
   "cell_type": "markdown",
   "source": "",
   "id": "6080e5bae2063efb"
  },
  {
   "metadata": {
    "ExecuteTime": {
     "end_time": "2025-09-06T09:14:52.036517Z",
     "start_time": "2025-09-06T09:14:52.031166Z"
    }
   },
   "cell_type": "code",
   "source": [
    "r =np.ones((5,5))\n",
    "print(r)"
   ],
   "id": "4732cd14a9145645",
   "outputs": [
    {
     "name": "stdout",
     "output_type": "stream",
     "text": [
      "[[1. 1. 1. 1. 1.]\n",
      " [1. 1. 1. 1. 1.]\n",
      " [1. 1. 1. 1. 1.]\n",
      " [1. 1. 1. 1. 1.]\n",
      " [1. 1. 1. 1. 1.]]\n"
     ]
    }
   ],
   "execution_count": 19
  }
 ],
 "metadata": {
  "kernelspec": {
   "display_name": "Python 3",
   "language": "python",
   "name": "python3"
  },
  "language_info": {
   "codemirror_mode": {
    "name": "ipython",
    "version": 2
   },
   "file_extension": ".py",
   "mimetype": "text/x-python",
   "name": "python",
   "nbconvert_exporter": "python",
   "pygments_lexer": "ipython2",
   "version": "2.7.6"
  }
 },
 "nbformat": 4,
 "nbformat_minor": 5
}
