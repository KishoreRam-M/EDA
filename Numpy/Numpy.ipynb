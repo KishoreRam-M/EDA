{
 "cells": [
  {
   "cell_type": "code",
   "id": "initial_id",
   "metadata": {
    "collapsed": true,
    "ExecuteTime": {
     "end_time": "2025-09-05T13:19:00.998613Z",
     "start_time": "2025-09-05T13:19:00.993094Z"
    }
   },
   "source": [
    "import numpy as np\n",
    "\n",
    "arr1 = np.array([[1,2,3,4],\n",
    "                 [4,3,2,1]])\n",
    "\n",
    "# Reshape arr1 to 4 rows and 2 columns\n",
    "arr2 = np.reshape(arr1, (4, 2))\n",
    "print(arr2)\n"
   ],
   "outputs": [
    {
     "name": "stdout",
     "output_type": "stream",
     "text": [
      "[[1 2]\n",
      " [3 4]\n",
      " [4 3]\n",
      " [2 1]]\n"
     ]
    }
   ],
   "execution_count": 47
  },
  {
   "metadata": {
    "ExecuteTime": {
     "end_time": "2025-09-05T13:00:10.316535Z",
     "start_time": "2025-09-05T13:00:10.308484Z"
    }
   },
   "cell_type": "code",
   "source": "arr.shape",
   "id": "9c394c42652573c",
   "outputs": [
    {
     "data": {
      "text/plain": [
       "(4,)"
      ]
     },
     "execution_count": 3,
     "metadata": {},
     "output_type": "execute_result"
    }
   ],
   "execution_count": 3
  },
  {
   "metadata": {
    "ExecuteTime": {
     "end_time": "2025-09-05T13:01:09.375748Z",
     "start_time": "2025-09-05T13:01:09.361240Z"
    }
   },
   "cell_type": "code",
   "source": "arr.sort()",
   "id": "f012af1e3a731c1b",
   "outputs": [],
   "execution_count": 4
  },
  {
   "metadata": {},
   "cell_type": "markdown",
   "source": "## Arrange Methods in Numpy Start -Stop -Next\n",
   "id": "3bb20976efe7fafe"
  },
  {
   "metadata": {
    "ExecuteTime": {
     "end_time": "2025-09-06T09:01:04.367403Z",
     "start_time": "2025-09-06T09:01:04.165775Z"
    }
   },
   "cell_type": "code",
   "source": [
    "arrange=np.arange(0,3,2)\n",
    "print(arrange)"
   ],
   "id": "fdbf6a8225896bde",
   "outputs": [
    {
     "ename": "NameError",
     "evalue": "name 'np' is not defined",
     "output_type": "error",
     "traceback": [
      "\u001B[31m---------------------------------------------------------------------------\u001B[39m",
      "\u001B[31mNameError\u001B[39m                                 Traceback (most recent call last)",
      "\u001B[36mCell\u001B[39m\u001B[36m \u001B[39m\u001B[32mIn[1]\u001B[39m\u001B[32m, line 1\u001B[39m\n\u001B[32m----> \u001B[39m\u001B[32m1\u001B[39m arrange=\u001B[43mnp\u001B[49m.arange(\u001B[32m0\u001B[39m,\u001B[32m3\u001B[39m,\u001B[32m2\u001B[39m)\n\u001B[32m      2\u001B[39m \u001B[38;5;28mprint\u001B[39m(arrange)\n",
      "\u001B[31mNameError\u001B[39m: name 'np' is not defined"
     ]
    }
   ],
   "execution_count": 1
  },
  {
   "metadata": {
    "jupyter": {
     "is_executing": true
    },
    "ExecuteTime": {
     "start_time": "2025-09-05T13:10:49.859521Z"
    }
   },
   "cell_type": "code",
   "outputs": [],
   "execution_count": null,
   "source": [
    "arr11= np.arrange(len (arr1))\n",
    "print(arr11)"
   ],
   "id": "30c823aedc528b20"
  },
  {
   "metadata": {},
   "cell_type": "markdown",
   "source": "## ReShape\n",
   "id": "c2581b353acc5da9"
  },
  {
   "metadata": {},
   "cell_type": "markdown",
   "source": "",
   "id": "6080e5bae2063efb"
  }
 ],
 "metadata": {
  "kernelspec": {
   "display_name": "Python 3",
   "language": "python",
   "name": "python3"
  },
  "language_info": {
   "codemirror_mode": {
    "name": "ipython",
    "version": 2
   },
   "file_extension": ".py",
   "mimetype": "text/x-python",
   "name": "python",
   "nbconvert_exporter": "python",
   "pygments_lexer": "ipython2",
   "version": "2.7.6"
  }
 },
 "nbformat": 4,
 "nbformat_minor": 5
}
