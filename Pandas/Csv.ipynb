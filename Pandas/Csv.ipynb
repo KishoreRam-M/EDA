{
 "cells": [
  {
   "cell_type": "code",
   "id": "initial_id",
   "metadata": {
    "collapsed": true,
    "ExecuteTime": {
     "end_time": "2025-09-06T11:02:38.655774Z",
     "start_time": "2025-09-06T11:02:38.592382Z"
    }
   },
   "source": [
    "import pandas as pd\n",
    "df = pd.read_csv('data.csv')\n",
    "# print(df.head()) ## first 5 only print\n",
    "# print(df.info())  ## about csv file\n",
    "# print(df.describe())  ## acout statiscal info\n",
    "\n",
    "\n"
   ],
   "outputs": [
    {
     "name": "stdout",
     "output_type": "stream",
     "text": [
      "<class 'pandas.core.frame.DataFrame'>\n",
      "RangeIndex: 50000 entries, 0 to 49999\n",
      "Data columns (total 7 columns):\n",
      " #   Column       Non-Null Count  Dtype \n",
      "---  ------       --------------  ----- \n",
      " 0   ID           50000 non-null  int64 \n",
      " 1   Name         50000 non-null  object\n",
      " 2   Age          50000 non-null  int64 \n",
      " 3   City         50000 non-null  object\n",
      " 4   Salary       50000 non-null  int64 \n",
      " 5   Department   50000 non-null  object\n",
      " 6   JoiningDate  50000 non-null  object\n",
      "dtypes: int64(3), object(4)\n",
      "memory usage: 2.7+ MB\n",
      "None\n",
      "                 ID           Age         Salary\n",
      "count  50000.000000  50000.000000   50000.000000\n",
      "mean   25000.500000     40.432800  115426.790600\n",
      "std    14433.901067     11.578344   48985.145943\n",
      "min        1.000000     21.000000   30004.000000\n",
      "25%    12500.750000     30.000000   72819.750000\n",
      "50%    25000.500000     40.000000  115915.000000\n",
      "75%    37500.250000     50.000000  158025.250000\n",
      "max    50000.000000     60.000000  199997.000000\n"
     ]
    }
   ],
   "execution_count": 3
  },
  {
   "metadata": {},
   "cell_type": "markdown",
   "source": "## Check is null or not",
   "id": "df56032f3bebeed2"
  },
  {
   "metadata": {
    "ExecuteTime": {
     "end_time": "2025-09-06T12:36:23.648379Z",
     "start_time": "2025-09-06T12:36:23.575620Z"
    }
   },
   "cell_type": "code",
   "source": [
    "df.isnull ## check\n",
    "df.isnull().sum() ## check null if null it is 0\n",
    "df.dtypes\n",
    "df.fillna(56) # which place are null it replace 56\n",
    "df.rename(columns={\"name\":\"oombu\"}) ## to rename\n",
    "df['Age'].unique() # to get unique values"
   ],
   "id": "b006d9fba322ae70",
   "outputs": [
    {
     "data": {
      "text/plain": [
       "array([51, 49, 23, 52, 36, 41, 55, 28, 37, 57, 43, 31, 35, 38, 48, 40, 29,\n",
       "       50, 21, 54, 46, 56, 47, 33, 27, 58, 30, 26, 59, 44, 34, 45, 22, 24,\n",
       "       42, 39, 32, 60, 25, 53])"
      ]
     },
     "execution_count": 8,
     "metadata": {},
     "output_type": "execute_result"
    }
   ],
   "execution_count": 8
  }
 ],
 "metadata": {
  "kernelspec": {
   "display_name": "Python 3",
   "language": "python",
   "name": "python3"
  },
  "language_info": {
   "codemirror_mode": {
    "name": "ipython",
    "version": 2
   },
   "file_extension": ".py",
   "mimetype": "text/x-python",
   "name": "python",
   "nbconvert_exporter": "python",
   "pygments_lexer": "ipython2",
   "version": "2.7.6"
  }
 },
 "nbformat": 4,
 "nbformat_minor": 5
}
