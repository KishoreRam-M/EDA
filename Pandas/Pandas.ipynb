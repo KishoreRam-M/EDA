{
 "cells": [
  {
   "metadata": {},
   "cell_type": "markdown",
   "source": "",
   "id": "bbf46dc43063cb87"
  },
  {
   "metadata": {},
   "cell_type": "markdown",
   "source": "## Pandas",
   "id": "c23295f623828c92"
  },
  {
   "metadata": {},
   "cell_type": "code",
   "outputs": [],
   "execution_count": null,
   "source": "",
   "id": "b55c4ffacd896b23"
  },
  {
   "metadata": {},
   "cell_type": "markdown",
   "source": "Series",
   "id": "a0b581f1461fe4cb"
  },
  {
   "metadata": {
    "ExecuteTime": {
     "end_time": "2025-09-06T09:31:21.936301Z",
     "start_time": "2025-09-06T09:31:21.922737Z"
    }
   },
   "cell_type": "code",
   "source": [
    "import pandas as pd\n",
    "data =[1,2,6,5,69,98,56]\n",
    "series = pd.Series(data)\n",
    "data2={\n",
    "    \"1\":\"a\",\n",
    "    \"2\":\"b\",\n",
    "    \"3\":\"c\",\n",
    "    \"4\":\"d\",\n",
    "}\n",
    "series1=pd.Series(data2)\n",
    "print(series)\n",
    "print(series1)"
   ],
   "id": "4bba01996e657f5f",
   "outputs": [
    {
     "name": "stdout",
     "output_type": "stream",
     "text": [
      "0     1\n",
      "1     2\n",
      "2     6\n",
      "3     5\n",
      "4    69\n",
      "5    98\n",
      "6    56\n",
      "dtype: int64\n",
      "1    a\n",
      "2    b\n",
      "3    c\n",
      "4    d\n",
      "dtype: object\n"
     ]
    }
   ],
   "execution_count": 3
  },
  {
   "metadata": {},
   "cell_type": "code",
   "outputs": [],
   "execution_count": null,
   "source": "",
   "id": "d78c509e6ae859a1"
  },
  {
   "metadata": {},
   "cell_type": "markdown",
   "source": "Real time example\n",
   "id": "35c5eaa5498a9c1a"
  },
  {
   "metadata": {
    "ExecuteTime": {
     "end_time": "2025-09-06T09:33:31.458099Z",
     "start_time": "2025-09-06T09:33:31.435147Z"
    }
   },
   "cell_type": "code",
   "source": [
    "import pandas as pd\n",
    "\n",
    "s = pd.Series([25, 30, None, 45])\n",
    "# Fill missing values\n",
    "s = s.fillna(s.mean())\n",
    "print(s)\n"
   ],
   "id": "c982c652b0bdc7e0",
   "outputs": [
    {
     "name": "stdout",
     "output_type": "stream",
     "text": [
      "0    25.000000\n",
      "1    30.000000\n",
      "2    33.333333\n",
      "3    45.000000\n",
      "dtype: float64\n"
     ]
    }
   ],
   "execution_count": 4
  },
  {
   "metadata": {},
   "cell_type": "markdown",
   "source": "## Data Frames\n",
   "id": "3d640648079e9db0"
  },
  {
   "metadata": {
    "ExecuteTime": {
     "end_time": "2025-09-06T09:40:34.495192Z",
     "start_time": "2025-09-06T09:40:34.467962Z"
    }
   },
   "cell_type": "code",
   "source": [
    "dummy_data={\n",
    "    \"name\":[\"Kishore\",\"Ram \",\"Mariappan\"],\n",
    "    \"age\":[20,20,58]\n",
    "}\n",
    "df = pd.DataFrame(dummy_data)\n",
    "print(df)"
   ],
   "id": "81f380cae484b3f4",
   "outputs": [
    {
     "name": "stdout",
     "output_type": "stream",
     "text": [
      "        name  age\n",
      "0    Kishore   20\n",
      "1       Ram    20\n",
      "2  Mariappan   58\n"
     ]
    }
   ],
   "execution_count": 6
  },
  {
   "metadata": {},
   "cell_type": "markdown",
   "source": "data read\n",
   "id": "41b9d293ee9a2977"
  },
  {
   "metadata": {
    "ExecuteTime": {
     "end_time": "2025-09-06T09:57:23.460880Z",
     "start_time": "2025-09-06T09:57:23.435759Z"
    }
   },
   "cell_type": "code",
   "source": [
    "\n",
    "json_str = '{\"name\": [\"Kishore\"], \"Age\": [20], \"clg\": [\"veltech\"]}'\n",
    "h = pd.read_json(json_str)\n",
    "print(h)\n"
   ],
   "id": "8d0a008226caf7a1",
   "outputs": [
    {
     "name": "stdout",
     "output_type": "stream",
     "text": [
      "      name  Age      clg\n",
      "0  Kishore   20  veltech\n"
     ]
    },
    {
     "name": "stderr",
     "output_type": "stream",
     "text": [
      "C:\\Users\\KRM\\AppData\\Local\\Temp\\ipykernel_14272\\2560249365.py:2: FutureWarning: Passing literal json to 'read_json' is deprecated and will be removed in a future version. To read from a literal string, wrap it in a 'StringIO' object.\n",
      "  h = pd.read_json(json_str)\n"
     ]
    }
   ],
   "execution_count": 11
  },
  {
   "metadata": {},
   "cell_type": "code",
   "outputs": [],
   "execution_count": null,
   "source": "",
   "id": "2bce90193e975f6"
  }
 ],
 "metadata": {
  "kernelspec": {
   "display_name": "Python 3",
   "language": "python",
   "name": "python3"
  },
  "language_info": {
   "codemirror_mode": {
    "name": "ipython",
    "version": 2
   },
   "file_extension": ".py",
   "mimetype": "text/x-python",
   "name": "python",
   "nbconvert_exporter": "python",
   "pygments_lexer": "ipython2",
   "version": "2.7.6"
  }
 },
 "nbformat": 4,
 "nbformat_minor": 5
}
