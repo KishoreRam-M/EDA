{
 "cells": [
  {
   "metadata": {},
   "cell_type": "markdown",
   "source": "",
   "id": "bbf46dc43063cb87"
  },
  {
   "metadata": {},
   "cell_type": "markdown",
   "source": "## Pandas",
   "id": "c23295f623828c92"
  },
  {
   "metadata": {},
   "cell_type": "code",
   "outputs": [],
   "execution_count": null,
   "source": "",
   "id": "b55c4ffacd896b23"
  },
  {
   "metadata": {},
   "cell_type": "markdown",
   "source": "Series",
   "id": "a0b581f1461fe4cb"
  },
  {
   "metadata": {
    "ExecuteTime": {
     "end_time": "2025-09-06T10:15:50.857111Z",
     "start_time": "2025-09-06T10:15:49.576455Z"
    }
   },
   "cell_type": "code",
   "source": [
    "import pandas as pd\n",
    "import zipfile\n",
    "import pdfplumber\n",
    "data =[1,2,6,5,69,98,56]\n",
    "series = pd.Series(data)\n",
    "data2={\n",
    "    \"1\":\"a\",\n",
    "    \"2\":\"b\",\n",
    "    \"3\":\"c\",\n",
    "    \"4\":\"d\",\n",
    "}\n",
    "series1=pd.Series(data2)\n",
    "print(series)\n",
    "print(series1)"
   ],
   "id": "4bba01996e657f5f",
   "outputs": [
    {
     "name": "stdout",
     "output_type": "stream",
     "text": [
      "0     1\n",
      "1     2\n",
      "2     6\n",
      "3     5\n",
      "4    69\n",
      "5    98\n",
      "6    56\n",
      "dtype: int64\n",
      "1    a\n",
      "2    b\n",
      "3    c\n",
      "4    d\n",
      "dtype: object\n"
     ]
    }
   ],
   "execution_count": 13
  },
  {
   "metadata": {},
   "cell_type": "code",
   "outputs": [],
   "execution_count": null,
   "source": "",
   "id": "d78c509e6ae859a1"
  },
  {
   "metadata": {},
   "cell_type": "markdown",
   "source": "Real time example\n",
   "id": "35c5eaa5498a9c1a"
  },
  {
   "metadata": {
    "ExecuteTime": {
     "end_time": "2025-09-06T09:33:31.458099Z",
     "start_time": "2025-09-06T09:33:31.435147Z"
    }
   },
   "cell_type": "code",
   "source": [
    "import pandas as pd\n",
    "\n",
    "s = pd.Series([25, 30, None, 45])\n",
    "# Fill missing values\n",
    "s = s.fillna(s.mean())\n",
    "print(s)\n"
   ],
   "id": "c982c652b0bdc7e0",
   "outputs": [
    {
     "name": "stdout",
     "output_type": "stream",
     "text": [
      "0    25.000000\n",
      "1    30.000000\n",
      "2    33.333333\n",
      "3    45.000000\n",
      "dtype: float64\n"
     ]
    }
   ],
   "execution_count": 4
  },
  {
   "metadata": {},
   "cell_type": "markdown",
   "source": "## Data Frames\n",
   "id": "3d640648079e9db0"
  },
  {
   "metadata": {
    "ExecuteTime": {
     "end_time": "2025-09-06T09:40:34.495192Z",
     "start_time": "2025-09-06T09:40:34.467962Z"
    }
   },
   "cell_type": "code",
   "source": [
    "dummy_data={\n",
    "    \"name\":[\"Kishore\",\"Ram \",\"Mariappan\"],\n",
    "    \"age\":[20,20,58]\n",
    "}\n",
    "df = pd.DataFrame(dummy_data)\n",
    "print(df)"
   ],
   "id": "81f380cae484b3f4",
   "outputs": [
    {
     "name": "stdout",
     "output_type": "stream",
     "text": [
      "        name  age\n",
      "0    Kishore   20\n",
      "1       Ram    20\n",
      "2  Mariappan   58\n"
     ]
    }
   ],
   "execution_count": 6
  },
  {
   "metadata": {},
   "cell_type": "markdown",
   "source": "data read\n",
   "id": "41b9d293ee9a2977"
  },
  {
   "metadata": {
    "ExecuteTime": {
     "end_time": "2025-09-06T09:57:23.460880Z",
     "start_time": "2025-09-06T09:57:23.435759Z"
    }
   },
   "cell_type": "code",
   "source": [
    "\n",
    "json_str = '{\"name\": [\"Kishore\"], \"Age\": [20], \"clg\": [\"veltech\"]}'\n",
    "h = pd.read_json(json_str)\n",
    "print(h)\n"
   ],
   "id": "8d0a008226caf7a1",
   "outputs": [
    {
     "name": "stdout",
     "output_type": "stream",
     "text": [
      "      name  Age      clg\n",
      "0  Kishore   20  veltech\n"
     ]
    },
    {
     "name": "stderr",
     "output_type": "stream",
     "text": [
      "C:\\Users\\KRM\\AppData\\Local\\Temp\\ipykernel_14272\\2560249365.py:2: FutureWarning: Passing literal json to 'read_json' is deprecated and will be removed in a future version. To read from a literal string, wrap it in a 'StringIO' object.\n",
      "  h = pd.read_json(json_str)\n"
     ]
    }
   ],
   "execution_count": 11
  },
  {
   "metadata": {},
   "cell_type": "code",
   "outputs": [],
   "execution_count": null,
   "source": "",
   "id": "2bce90193e975f6"
  },
  {
   "metadata": {},
   "cell_type": "markdown",
   "source": " ## Data Manipulation",
   "id": "3e8fdc60498ef83b"
  },
  {
   "metadata": {
    "ExecuteTime": {
     "end_time": "2025-09-06T10:24:23.372460Z",
     "start_time": "2025-09-06T10:24:08.514242Z"
    }
   },
   "cell_type": "code",
   "source": [
    "import zipfile\n",
    "import pdfplumber\n",
    "import pandas as pd\n",
    "\n",
    "zip_path = r\"C:\\Users\\KRM\\Downloads\\Internship.zip\"\n",
    "\n",
    "data = []\n",
    "\n",
    "with zipfile.ZipFile(zip_path, 'r') as z:\n",
    "    pdf_files = [f for f in z.namelist() if f.endswith('.pdf')]\n",
    "\n",
    "    for pdf_file in pdf_files:\n",
    "        with z.open(pdf_file) as zf:\n",
    "            with pdfplumber.open(zf) as pdf:\n",
    "                text = \"\"\n",
    "                for page in pdf.pages:\n",
    "                    page_text = page.extract_text()\n",
    "                    if page_text:\n",
    "                        text += page_text + '\\n'\n",
    "\n",
    "                data.append({'filename': pdf_file, 'text': text})\n",
    "\n",
    "df = pd.DataFrame(data)\n",
    "\n",
    "print(df.head())\n"
   ],
   "id": "809fe1d525c556b7",
   "outputs": [
    {
     "ename": "PdfminerException",
     "evalue": "No /Root object! - Is this really a PDF?",
     "output_type": "error",
     "traceback": [
      "\u001B[31m---------------------------------------------------------------------------\u001B[39m",
      "\u001B[31mPDFSyntaxError\u001B[39m                            Traceback (most recent call last)",
      "\u001B[36mFile \u001B[39m\u001B[32m~\\PycharmProjects\\EDA\\.venv\\Lib\\site-packages\\pdfplumber\\pdf.py:50\u001B[39m, in \u001B[36mPDF.__init__\u001B[39m\u001B[34m(self, stream, stream_is_external, path, pages, laparams, password, strict_metadata, unicode_norm, raise_unicode_errors)\u001B[39m\n\u001B[32m     49\u001B[39m \u001B[38;5;28;01mtry\u001B[39;00m:\n\u001B[32m---> \u001B[39m\u001B[32m50\u001B[39m     \u001B[38;5;28mself\u001B[39m.doc = \u001B[43mPDFDocument\u001B[49m\u001B[43m(\u001B[49m\u001B[43mPDFParser\u001B[49m\u001B[43m(\u001B[49m\u001B[43mstream\u001B[49m\u001B[43m)\u001B[49m\u001B[43m,\u001B[49m\u001B[43m \u001B[49m\u001B[43mpassword\u001B[49m\u001B[43m=\u001B[49m\u001B[43mpassword\u001B[49m\u001B[43m \u001B[49m\u001B[38;5;129;43;01mor\u001B[39;49;00m\u001B[43m \u001B[49m\u001B[33;43m\"\u001B[39;49m\u001B[33;43m\"\u001B[39;49m\u001B[43m)\u001B[49m\n\u001B[32m     51\u001B[39m \u001B[38;5;28;01mexcept\u001B[39;00m \u001B[38;5;167;01mException\u001B[39;00m \u001B[38;5;28;01mas\u001B[39;00m e:\n",
      "\u001B[36mFile \u001B[39m\u001B[32m~\\PycharmProjects\\EDA\\.venv\\Lib\\site-packages\\pdfminer\\pdfdocument.py:752\u001B[39m, in \u001B[36mPDFDocument.__init__\u001B[39m\u001B[34m(self, parser, password, caching, fallback)\u001B[39m\n\u001B[32m    751\u001B[39m \u001B[38;5;28;01melse\u001B[39;00m:\n\u001B[32m--> \u001B[39m\u001B[32m752\u001B[39m     \u001B[38;5;28;01mraise\u001B[39;00m PDFSyntaxError(\u001B[33m\"\u001B[39m\u001B[33mNo /Root object! - Is this really a PDF?\u001B[39m\u001B[33m\"\u001B[39m)\n\u001B[32m    753\u001B[39m \u001B[38;5;28;01mif\u001B[39;00m \u001B[38;5;28mself\u001B[39m.catalog.get(\u001B[33m\"\u001B[39m\u001B[33mType\u001B[39m\u001B[33m\"\u001B[39m) \u001B[38;5;129;01mis\u001B[39;00m \u001B[38;5;129;01mnot\u001B[39;00m LITERAL_CATALOG:\n",
      "\u001B[31mPDFSyntaxError\u001B[39m: No /Root object! - Is this really a PDF?",
      "\nDuring handling of the above exception, another exception occurred:\n",
      "\u001B[31mPdfminerException\u001B[39m                         Traceback (most recent call last)",
      "\u001B[36mCell\u001B[39m\u001B[36m \u001B[39m\u001B[32mIn[16]\u001B[39m\u001B[32m, line 14\u001B[39m\n\u001B[32m     12\u001B[39m \u001B[38;5;28;01mfor\u001B[39;00m pdf_file \u001B[38;5;129;01min\u001B[39;00m pdf_files:\n\u001B[32m     13\u001B[39m     \u001B[38;5;28;01mwith\u001B[39;00m z.open(pdf_file) \u001B[38;5;28;01mas\u001B[39;00m zf:\n\u001B[32m---> \u001B[39m\u001B[32m14\u001B[39m         \u001B[38;5;28;01mwith\u001B[39;00m \u001B[43mpdfplumber\u001B[49m\u001B[43m.\u001B[49m\u001B[43mopen\u001B[49m\u001B[43m(\u001B[49m\u001B[43mzf\u001B[49m\u001B[43m)\u001B[49m \u001B[38;5;28;01mas\u001B[39;00m pdf:\n\u001B[32m     15\u001B[39m             text = \u001B[33m\"\u001B[39m\u001B[33m\"\u001B[39m\n\u001B[32m     16\u001B[39m             \u001B[38;5;28;01mfor\u001B[39;00m page \u001B[38;5;129;01min\u001B[39;00m pdf.pages:\n",
      "\u001B[36mFile \u001B[39m\u001B[32m~\\PycharmProjects\\EDA\\.venv\\Lib\\site-packages\\pdfplumber\\pdf.py:107\u001B[39m, in \u001B[36mPDF.open\u001B[39m\u001B[34m(cls, path_or_fp, pages, laparams, password, strict_metadata, unicode_norm, repair, gs_path, repair_setting, raise_unicode_errors)\u001B[39m\n\u001B[32m    104\u001B[39m     path = \u001B[38;5;28;01mNone\u001B[39;00m\n\u001B[32m    106\u001B[39m \u001B[38;5;28;01mtry\u001B[39;00m:\n\u001B[32m--> \u001B[39m\u001B[32m107\u001B[39m     \u001B[38;5;28;01mreturn\u001B[39;00m \u001B[38;5;28;43mcls\u001B[39;49m\u001B[43m(\u001B[49m\n\u001B[32m    108\u001B[39m \u001B[43m        \u001B[49m\u001B[43mstream\u001B[49m\u001B[43m,\u001B[49m\n\u001B[32m    109\u001B[39m \u001B[43m        \u001B[49m\u001B[43mpath\u001B[49m\u001B[43m=\u001B[49m\u001B[43mpath\u001B[49m\u001B[43m,\u001B[49m\n\u001B[32m    110\u001B[39m \u001B[43m        \u001B[49m\u001B[43mpages\u001B[49m\u001B[43m=\u001B[49m\u001B[43mpages\u001B[49m\u001B[43m,\u001B[49m\n\u001B[32m    111\u001B[39m \u001B[43m        \u001B[49m\u001B[43mlaparams\u001B[49m\u001B[43m=\u001B[49m\u001B[43mlaparams\u001B[49m\u001B[43m,\u001B[49m\n\u001B[32m    112\u001B[39m \u001B[43m        \u001B[49m\u001B[43mpassword\u001B[49m\u001B[43m=\u001B[49m\u001B[43mpassword\u001B[49m\u001B[43m,\u001B[49m\n\u001B[32m    113\u001B[39m \u001B[43m        \u001B[49m\u001B[43mstrict_metadata\u001B[49m\u001B[43m=\u001B[49m\u001B[43mstrict_metadata\u001B[49m\u001B[43m,\u001B[49m\n\u001B[32m    114\u001B[39m \u001B[43m        \u001B[49m\u001B[43municode_norm\u001B[49m\u001B[43m=\u001B[49m\u001B[43municode_norm\u001B[49m\u001B[43m,\u001B[49m\n\u001B[32m    115\u001B[39m \u001B[43m        \u001B[49m\u001B[43mstream_is_external\u001B[49m\u001B[43m=\u001B[49m\u001B[43mstream_is_external\u001B[49m\u001B[43m,\u001B[49m\n\u001B[32m    116\u001B[39m \u001B[43m        \u001B[49m\u001B[43mraise_unicode_errors\u001B[49m\u001B[43m=\u001B[49m\u001B[43mraise_unicode_errors\u001B[49m\u001B[43m,\u001B[49m\n\u001B[32m    117\u001B[39m \u001B[43m    \u001B[49m\u001B[43m)\u001B[49m\n\u001B[32m    119\u001B[39m \u001B[38;5;28;01mexcept\u001B[39;00m PdfminerException:\n\u001B[32m    120\u001B[39m     \u001B[38;5;28;01mif\u001B[39;00m \u001B[38;5;129;01mnot\u001B[39;00m stream_is_external:\n",
      "\u001B[36mFile \u001B[39m\u001B[32m~\\PycharmProjects\\EDA\\.venv\\Lib\\site-packages\\pdfplumber\\pdf.py:52\u001B[39m, in \u001B[36mPDF.__init__\u001B[39m\u001B[34m(self, stream, stream_is_external, path, pages, laparams, password, strict_metadata, unicode_norm, raise_unicode_errors)\u001B[39m\n\u001B[32m     50\u001B[39m     \u001B[38;5;28mself\u001B[39m.doc = PDFDocument(PDFParser(stream), password=password \u001B[38;5;129;01mor\u001B[39;00m \u001B[33m\"\u001B[39m\u001B[33m\"\u001B[39m)\n\u001B[32m     51\u001B[39m \u001B[38;5;28;01mexcept\u001B[39;00m \u001B[38;5;167;01mException\u001B[39;00m \u001B[38;5;28;01mas\u001B[39;00m e:\n\u001B[32m---> \u001B[39m\u001B[32m52\u001B[39m     \u001B[38;5;28;01mraise\u001B[39;00m PdfminerException(e)\n\u001B[32m     53\u001B[39m \u001B[38;5;28mself\u001B[39m.rsrcmgr = PDFResourceManager()\n\u001B[32m     54\u001B[39m \u001B[38;5;28mself\u001B[39m.metadata = {}\n",
      "\u001B[31mPdfminerException\u001B[39m: No /Root object! - Is this really a PDF?"
     ]
    }
   ],
   "execution_count": 16
  }
 ],
 "metadata": {
  "kernelspec": {
   "display_name": "Python 3",
   "language": "python",
   "name": "python3"
  },
  "language_info": {
   "codemirror_mode": {
    "name": "ipython",
    "version": 2
   },
   "file_extension": ".py",
   "mimetype": "text/x-python",
   "name": "python",
   "nbconvert_exporter": "python",
   "pygments_lexer": "ipython2",
   "version": "2.7.6"
  }
 },
 "nbformat": 4,
 "nbformat_minor": 5
}
