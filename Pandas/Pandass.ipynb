{
 "cells": [
  {
   "cell_type": "code",
   "id": "initial_id",
   "metadata": {
    "collapsed": true,
    "ExecuteTime": {
     "end_time": "2025-09-06T13:09:11.706941Z",
     "start_time": "2025-09-06T13:09:11.695688Z"
    }
   },
   "source": [
    "import pandas as pd\n",
    "\n",
    "data = {\n",
    "    \"Department\": [\"IT\", \"IT\", \"HR\", \"HR\", \"Finance\", \"Finance\"],\n",
    "    \"Employee\": [\"A\", \"B\", \"C\", \"D\", \"E\", \"F\"],\n",
    "    \"Salary\": [50000, 60000, 45000, 47000, 70000, 72000]\n",
    "}\n",
    "\n",
    "grp= pd.DataFrame(data)\n",
    "grp1 = grp.groupby(['Department', 'Salary']).median(numeric_only=True)\n",
    "print(grp1)\n",
    "\n",
    "print(grp1)\n"
   ],
   "outputs": [
    {
     "name": "stdout",
     "output_type": "stream",
     "text": [
      "Empty DataFrame\n",
      "Columns: []\n",
      "Index: [(Finance, 70000), (Finance, 72000), (HR, 45000), (HR, 47000), (IT, 50000), (IT, 60000)]\n",
      "Empty DataFrame\n",
      "Columns: []\n",
      "Index: [(Finance, 70000), (Finance, 72000), (HR, 45000), (HR, 47000), (IT, 50000), (IT, 60000)]\n"
     ]
    }
   ],
   "execution_count": 27
  }
 ],
 "metadata": {
  "kernelspec": {
   "display_name": "Python 3",
   "language": "python",
   "name": "python3"
  },
  "language_info": {
   "codemirror_mode": {
    "name": "ipython",
    "version": 2
   },
   "file_extension": ".py",
   "mimetype": "text/x-python",
   "name": "python",
   "nbconvert_exporter": "python",
   "pygments_lexer": "ipython2",
   "version": "2.7.6"
  }
 },
 "nbformat": 4,
 "nbformat_minor": 5
}
